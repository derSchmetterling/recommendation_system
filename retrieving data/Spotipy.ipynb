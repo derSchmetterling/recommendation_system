{
  "cells": [
    {
      "cell_type": "code",
      "execution_count": 1,
      "metadata": {},
      "outputs": [],
      "source": [
        "import pandas as pd\n",
        "import spotipy"
      ]
    },
    {
      "cell_type": "code",
      "execution_count": 2,
      "metadata": {
        "id": "SY_jDvdQzikh"
      },
      "outputs": [],
      "source": [
        "\n",
        "from spotipy.oauth2 import SpotifyClientCredentials\n",
        "cid = ''\n",
        "secret = ''\n",
        "\n",
        "client_credentials_manager = SpotifyClientCredentials(client_id=cid, client_secret=secret)\n",
        "sp = spotipy.Spotify(client_credentials_manager=client_credentials_manager)"
      ]
    },
    {
      "cell_type": "markdown",
      "metadata": {
        "id": "8dOdHIZlqUb5"
      },
      "source": [
        "<h2>Extracting features from the playlist songs</h2>"
      ]
    },
    {
      "cell_type": "code",
      "execution_count": 22,
      "metadata": {
        "id": "4BfI_6ExlUSy"
      },
      "outputs": [],
      "source": [
        "playlist_link = \"https://open.spotify.com/playlist/52go3BbUEoIhc6dpAtJOw8?si=a0638ca764644872\"\n",
        "playlist_URI = playlist_link.split(\"/\")[-1].split(\"?\")[0]\n",
        "track_uris = [x[\"track\"][\"uri\"] for x in sp.playlist_tracks(playlist_URI)[\"items\"]]"
      ]
    },
    {
      "cell_type": "code",
      "execution_count": 23,
      "metadata": {
        "id": "mGYPAliPlmHB"
      },
      "outputs": [],
      "source": [
        "\n",
        "track_id = []\n",
        "track_name = [] \n",
        "artist_uri = []\n",
        "artist_name = []\n",
        "artist_pop = []\n",
        "artist_genres = []\n",
        "album = []\n",
        "track_pop = []\n",
        "\n",
        "for track in sp.playlist_tracks(playlist_URI)[\"items\"]:\n",
        "    #URI\n",
        "    track_id.append(track[\"track\"][\"id\"])\n",
        "    \n",
        "    #Track name\n",
        "    track_name.append(track[\"track\"][\"name\"])\n",
        "    \n",
        "    #Main Artist\n",
        "    artist_uri = track[\"track\"][\"artists\"][0][\"uri\"]\n",
        "    artist_info = sp.artist(artist_uri)\n",
        "    \n",
        "    #Name, popularity, genre\n",
        "    artist_name.append(track[\"track\"][\"artists\"][0][\"name\"])\n",
        "    artist_pop.append(artist_info[\"popularity\"])\n",
        "\n",
        "    artist_genres.append(artist_info[\"genres\"])\n",
        "    \n",
        "    #Album\n",
        "    album.append(track[\"track\"][\"album\"][\"name\"])\n",
        "    \n",
        "    #Popularity of the track\n",
        "    track_pop.append(track[\"track\"][\"popularity\"])\n"
      ]
    },
    {
      "cell_type": "code",
      "execution_count": 26,
      "metadata": {
        "colab": {
          "base_uri": "https://localhost:8080/",
          "height": 425
        },
        "id": "E3AuUEOYxXwt",
        "outputId": "073fe333-6e61-4880-faba-139b1a7e3c1c"
      },
      "outputs": [
        {
          "name": "stdout",
          "output_type": "stream",
          "text": [
            "(100, 5)\n"
          ]
        },
        {
          "data": {
            "text/html": [
              "<div>\n",
              "<style scoped>\n",
              "    .dataframe tbody tr th:only-of-type {\n",
              "        vertical-align: middle;\n",
              "    }\n",
              "\n",
              "    .dataframe tbody tr th {\n",
              "        vertical-align: top;\n",
              "    }\n",
              "\n",
              "    .dataframe thead th {\n",
              "        text-align: right;\n",
              "    }\n",
              "</style>\n",
              "<table border=\"1\" class=\"dataframe\">\n",
              "  <thead>\n",
              "    <tr style=\"text-align: right;\">\n",
              "      <th></th>\n",
              "      <th>artist_name</th>\n",
              "      <th>track_name</th>\n",
              "      <th>track_id</th>\n",
              "      <th>popularity</th>\n",
              "      <th>artist_genre</th>\n",
              "    </tr>\n",
              "  </thead>\n",
              "  <tbody>\n",
              "    <tr>\n",
              "      <th>0</th>\n",
              "      <td>Tiësto</td>\n",
              "      <td>Red Lights</td>\n",
              "      <td>5L2l7mI8J1USMzhsmdjat9</td>\n",
              "      <td>70</td>\n",
              "      <td>[big room, brostep, dance pop, dutch edm, edm,...</td>\n",
              "    </tr>\n",
              "    <tr>\n",
              "      <th>1</th>\n",
              "      <td>Mike Posner</td>\n",
              "      <td>I Took A Pill In Ibiza - Seeb Remix</td>\n",
              "      <td>0vbtURX4qv1l7besfwmnD8</td>\n",
              "      <td>79</td>\n",
              "      <td>[dance pop, edm, pop, pop rap]</td>\n",
              "    </tr>\n",
              "    <tr>\n",
              "      <th>2</th>\n",
              "      <td>Kid Cudi</td>\n",
              "      <td>Pursuit Of Happiness - Extended Steve Aoki Remix</td>\n",
              "      <td>5PX4uS1LqlWEPL69phPVQQ</td>\n",
              "      <td>78</td>\n",
              "      <td>[hip hop, ohio hip hop, rap]</td>\n",
              "    </tr>\n",
              "    <tr>\n",
              "      <th>3</th>\n",
              "      <td>Axwell /\\ Ingrosso</td>\n",
              "      <td>More Than You Know</td>\n",
              "      <td>6h5PAsRni4IRlxWr6uDPTP</td>\n",
              "      <td>82</td>\n",
              "      <td>[dance pop, edm, electro house, pop, pop dance...</td>\n",
              "    </tr>\n",
              "    <tr>\n",
              "      <th>4</th>\n",
              "      <td>Avicii</td>\n",
              "      <td>I Could Be The One (Avicii Vs. Nicky Romero) -...</td>\n",
              "      <td>1sh6lL6cmlcwhqZKGiKBua</td>\n",
              "      <td>70</td>\n",
              "      <td>[dance pop, edm, pop, pop dance]</td>\n",
              "    </tr>\n",
              "  </tbody>\n",
              "</table>\n",
              "</div>"
            ],
            "text/plain": [
              "          artist_name                                         track_name  \\\n",
              "0              Tiësto                                         Red Lights   \n",
              "1         Mike Posner                I Took A Pill In Ibiza - Seeb Remix   \n",
              "2            Kid Cudi   Pursuit Of Happiness - Extended Steve Aoki Remix   \n",
              "3  Axwell /\\ Ingrosso                                 More Than You Know   \n",
              "4              Avicii  I Could Be The One (Avicii Vs. Nicky Romero) -...   \n",
              "\n",
              "                 track_id  popularity  \\\n",
              "0  5L2l7mI8J1USMzhsmdjat9          70   \n",
              "1  0vbtURX4qv1l7besfwmnD8          79   \n",
              "2  5PX4uS1LqlWEPL69phPVQQ          78   \n",
              "3  6h5PAsRni4IRlxWr6uDPTP          82   \n",
              "4  1sh6lL6cmlcwhqZKGiKBua          70   \n",
              "\n",
              "                                        artist_genre  \n",
              "0  [big room, brostep, dance pop, dutch edm, edm,...  \n",
              "1                     [dance pop, edm, pop, pop rap]  \n",
              "2                       [hip hop, ohio hip hop, rap]  \n",
              "3  [dance pop, edm, electro house, pop, pop dance...  \n",
              "4                   [dance pop, edm, pop, pop dance]  "
            ]
          },
          "execution_count": 26,
          "metadata": {},
          "output_type": "execute_result"
        }
      ],
      "source": [
        "import pandas as pd\n",
        "track_dataframe = pd.DataFrame({'artist_name' : artist_name, 'track_name' : track_name, 'track_id' : track_id, 'popularity' : track_pop, 'artist_genre': artist_genres})\n",
        "print(track_dataframe.shape)\n",
        "track_dataframe.head()"
      ]
    },
    {
      "cell_type": "code",
      "execution_count": 33,
      "metadata": {
        "colab": {
          "base_uri": "https://localhost:8080/",
          "height": 957
        },
        "id": "NcFc3ctEluTG",
        "outputId": "11e4c5f6-b917-481f-e2cb-aacc46003d55"
      },
      "outputs": [],
      "source": [
        "def create_data(track_dataframe):\n",
        "\n",
        "    features = sp.audio_features(track_dataframe['track_id'].tolist())\n",
        "    audio_features = pd.DataFrame(features)\n",
        "    audio_features.insert(0, 'track_name', track_dataframe['track_name'])\n",
        "    audio_features.insert(1, 'artist_name', track_dataframe['artist_name'])\n",
        "    audio_features.insert(2, 'artist_genre', track_dataframe['artist_genre'])\n",
        "    audio_features.insert(3, 'popularity', track_dataframe['popularity'])\n",
        "    audio_features = audio_features.drop(['uri', 'track_href', 'analysis_url', 'type'], axis = 1)\n",
        "    return audio_features"
      ]
    },
    {
      "cell_type": "code",
      "execution_count": 34,
      "metadata": {
        "colab": {
          "base_uri": "https://localhost:8080/",
          "height": 201
        },
        "id": "0nKX_0xQNHIr",
        "outputId": "e65d0faa-3479-4ead-96f1-22a0c126e1b1"
      },
      "outputs": [],
      "source": [
        "\n",
        "create_data(track_dataframe).to_csv('outputs/playlist_features.csv', index = False)"
      ]
    },
    {
      "cell_type": "markdown",
      "metadata": {},
      "source": [
        "<h2> Creating our search space </h2>"
      ]
    },
    {
      "cell_type": "markdown",
      "metadata": {},
      "source": [
        "This database is where we are going to search for songs to recommend to our playlist. First I search for songs which their albums were released between 2018-2021, this is because the API does not gives information about the release of the song itself."
      ]
    },
    {
      "cell_type": "code",
      "execution_count": 14,
      "metadata": {},
      "outputs": [],
      "source": [
        "artist_name = []\n",
        "track_name = []\n",
        "popularity = []\n",
        "track_id = []\n",
        "artist_uri = []\n",
        "\n",
        "for i in range(0,1000,50):\n",
        "    track_results = sp.search(q='year:2018-2021', type='track', limit=50,offset=i)\n",
        "    for i, t in enumerate(track_results['tracks']['items']):\n",
        "        \n",
        "\n",
        "        artist_name.append(t['artists'][0]['name'])\n",
        "        artist_ur = t['artists'][0]['uri']\n",
        "        artist_uri.append(artist_ur)\n",
        "        \n",
        "\n",
        "\n",
        "        track_name.append(t['name'])\n",
        "        track_id.append(t['id'])\n",
        "        popularity.append(t['popularity'])"
      ]
    },
    {
      "cell_type": "markdown",
      "metadata": {},
      "source": [
        "Now I will use the artist_uri field to retrieve data about the genres of the artist, since the API does not gives information about the genres of the track itself. I separated the steps because we have a bigger dataset than our playlist, and the API would limit my requests if I were to make them in less than a 30 seconds window."
      ]
    },
    {
      "cell_type": "code",
      "execution_count": 15,
      "metadata": {},
      "outputs": [],
      "source": [
        "artist_genre = []\n",
        "for i in artist_uri:\n",
        "    \n",
        "    artist_info = sp.artist(i)\n",
        "    artist_genre.append(artist_info['genres'])\n",
        "    "
      ]
    },
    {
      "cell_type": "markdown",
      "metadata": {},
      "source": [
        "Let's take a look on our dateset. I notice that for artist_genre we have some missing data, I will address this issue ahead."
      ]
    },
    {
      "cell_type": "code",
      "execution_count": 16,
      "metadata": {},
      "outputs": [
        {
          "name": "stdout",
          "output_type": "stream",
          "text": [
            "(1000, 5)\n"
          ]
        },
        {
          "data": {
            "text/html": [
              "<div>\n",
              "<style scoped>\n",
              "    .dataframe tbody tr th:only-of-type {\n",
              "        vertical-align: middle;\n",
              "    }\n",
              "\n",
              "    .dataframe tbody tr th {\n",
              "        vertical-align: top;\n",
              "    }\n",
              "\n",
              "    .dataframe thead th {\n",
              "        text-align: right;\n",
              "    }\n",
              "</style>\n",
              "<table border=\"1\" class=\"dataframe\">\n",
              "  <thead>\n",
              "    <tr style=\"text-align: right;\">\n",
              "      <th></th>\n",
              "      <th>artist_name</th>\n",
              "      <th>track_name</th>\n",
              "      <th>track_id</th>\n",
              "      <th>popularity</th>\n",
              "      <th>artist_genre</th>\n",
              "    </tr>\n",
              "  </thead>\n",
              "  <tbody>\n",
              "    <tr>\n",
              "      <th>0</th>\n",
              "      <td>Carolina Gaitán - La Gaita</td>\n",
              "      <td>We Don't Talk About Bruno</td>\n",
              "      <td>52xJxFP6TqMuO4Yt0eOkMz</td>\n",
              "      <td>96</td>\n",
              "      <td>[]</td>\n",
              "    </tr>\n",
              "    <tr>\n",
              "      <th>1</th>\n",
              "      <td>Kodak Black</td>\n",
              "      <td>Super Gremlin</td>\n",
              "      <td>4A8cWXxKfIL3lAyUDzXbCF</td>\n",
              "      <td>91</td>\n",
              "      <td>[florida rap, hip hop, melodic rap, miami hip ...</td>\n",
              "    </tr>\n",
              "    <tr>\n",
              "      <th>2</th>\n",
              "      <td>Jessica Darrow</td>\n",
              "      <td>Surface Pressure</td>\n",
              "      <td>760jhRscwGbIIe1m1IIQpU</td>\n",
              "      <td>92</td>\n",
              "      <td>[]</td>\n",
              "    </tr>\n",
              "    <tr>\n",
              "      <th>3</th>\n",
              "      <td>GAYLE</td>\n",
              "      <td>abcdefu</td>\n",
              "      <td>4fouWK6XVHhzl78KzQ1UjL</td>\n",
              "      <td>100</td>\n",
              "      <td>[modern alternative pop]</td>\n",
              "    </tr>\n",
              "    <tr>\n",
              "      <th>4</th>\n",
              "      <td>Imagine Dragons</td>\n",
              "      <td>Enemy (with JID) - from the series Arcane Leag...</td>\n",
              "      <td>1r9xUipOqoNwggBpENDsvJ</td>\n",
              "      <td>98</td>\n",
              "      <td>[modern rock, rock]</td>\n",
              "    </tr>\n",
              "  </tbody>\n",
              "</table>\n",
              "</div>"
            ],
            "text/plain": [
              "                  artist_name  \\\n",
              "0  Carolina Gaitán - La Gaita   \n",
              "1                 Kodak Black   \n",
              "2              Jessica Darrow   \n",
              "3                       GAYLE   \n",
              "4             Imagine Dragons   \n",
              "\n",
              "                                          track_name                track_id  \\\n",
              "0                          We Don't Talk About Bruno  52xJxFP6TqMuO4Yt0eOkMz   \n",
              "1                                      Super Gremlin  4A8cWXxKfIL3lAyUDzXbCF   \n",
              "2                                   Surface Pressure  760jhRscwGbIIe1m1IIQpU   \n",
              "3                                            abcdefu  4fouWK6XVHhzl78KzQ1UjL   \n",
              "4  Enemy (with JID) - from the series Arcane Leag...  1r9xUipOqoNwggBpENDsvJ   \n",
              "\n",
              "   popularity                                       artist_genre  \n",
              "0          96                                                 []  \n",
              "1          91  [florida rap, hip hop, melodic rap, miami hip ...  \n",
              "2          92                                                 []  \n",
              "3         100                           [modern alternative pop]  \n",
              "4          98                                [modern rock, rock]  "
            ]
          },
          "execution_count": 16,
          "metadata": {},
          "output_type": "execute_result"
        }
      ],
      "source": [
        "track_dataframe = pd.DataFrame({'artist_name' : artist_name, 'track_name' : track_name, 'track_id' : track_id, 'popularity' : popularity, 'artist_genre' : artist_genre})\n",
        "print(track_dataframe.shape)\n",
        "track_dataframe.head()"
      ]
    },
    {
      "cell_type": "markdown",
      "metadata": {},
      "source": [
        "At last, I will request the track features, add them to the previous dataframe and drop columns that are useless for the recommendation system, like the track_uri, id and etc."
      ]
    },
    {
      "cell_type": "code",
      "execution_count": 17,
      "metadata": {},
      "outputs": [],
      "source": [
        "\n",
        "for i in range(0,10):\n",
        "    features = sp.audio_features(track_dataframe['track_id'][i*100:(i+1)*100])\n",
        "    if i == 0:\n",
        "        audio_features = pd.DataFrame(features)\n",
        "    else:\n",
        "        audio_features_aux = pd.DataFrame(features)\n",
        "        audio_features = pd.concat([audio_features, audio_features_aux], ignore_index= True)\n",
        "        \n",
        "\n",
        "\n"
      ]
    },
    {
      "cell_type": "code",
      "execution_count": 19,
      "metadata": {},
      "outputs": [],
      "source": [
        "audio_features.insert(0, 'track_name', track_dataframe['track_name'])\n",
        "audio_features.insert(1, 'artist_name', track_dataframe['artist_name'])\n",
        "audio_features.insert(2, 'artist_genre', track_dataframe['artist_genre'])\n",
        "audio_features.insert(3, 'popularity', track_dataframe['popularity'])\n",
        "audio_features = audio_features.drop(['uri', 'track_href', 'analysis_url', 'type'], axis = 1)\n"
      ]
    },
    {
      "cell_type": "code",
      "execution_count": 21,
      "metadata": {},
      "outputs": [],
      "source": [
        "audio_features.to_csv('outputs/searchspace.csv', index = False)"
      ]
    },
    {
      "cell_type": "markdown",
      "metadata": {
        "id": "2kvU8ECACuv6"
      },
      "source": [
        "Some audio features -> https://developer.spotify.com/documentation/web-api/reference/#/operations/get-audio-analysis"
      ]
    },
    {
      "cell_type": "markdown",
      "metadata": {
        "id": "XCiw1vDLM_Mh"
      },
      "source": [
        "#Espaço de busca"
      ]
    },
    {
      "cell_type": "markdown",
      "metadata": {
        "id": "LY4o2vK8NCZw"
      },
      "source": [
        "Para criar o sistema de recomendação, buscaremos"
      ]
    }
  ],
  "metadata": {
    "colab": {
      "collapsed_sections": [],
      "name": "Spotipy.ipynb",
      "provenance": []
    },
    "kernelspec": {
      "display_name": "Python 3",
      "name": "python3"
    },
    "language_info": {
      "codemirror_mode": {
        "name": "ipython",
        "version": 3
      },
      "file_extension": ".py",
      "mimetype": "text/x-python",
      "name": "python",
      "nbconvert_exporter": "python",
      "pygments_lexer": "ipython3",
      "version": "3.10.0"
    }
  },
  "nbformat": 4,
  "nbformat_minor": 0
}
